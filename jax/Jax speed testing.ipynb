{
 "cells": [
  {
   "cell_type": "code",
   "execution_count": 1,
   "metadata": {},
   "outputs": [],
   "source": [
    "import numpy\n",
    "import jax\n",
    "from jax import grad, jit, vmap\n",
    "import jax.numpy as np\n",
    "from jax import random\n",
    "from jax.ops import index, index_add, index_update"
   ]
  },
  {
   "cell_type": "code",
   "execution_count": 9,
   "metadata": {},
   "outputs": [],
   "source": [
    "def init_network_params_ones(sizes):\n",
    "    return [\n",
    "        (numpy.ones((n, m)), numpy.ones((n, 1)))\n",
    "        for m, n in zip(sizes[:-1], sizes[1:])\n",
    "    ]\n",
    "\n",
    "def make_batch(N):\n",
    "    X = numpy.random.rand(3,N)\n",
    "    Y = numpy.sin(X*12)\n",
    "    return X, Y\n",
    "\n",
    "# init_network_params_ones([3,20,20,20,3])\n",
    "# make_batch(100)"
   ]
  },
  {
   "cell_type": "code",
   "execution_count": null,
   "metadata": {},
   "outputs": [],
   "source": [
    "@jit\n",
    "def predict(params, x):\n",
    "    # per-example predictions\n",
    "    for w, b in params[:-1]:\n",
    "        x = relu(np.dot(w, x) + b)\n",
    "    w, b = params[-1]\n",
    "    return np.dot(w, x) + b\n",
    "\n",
    "@jit\n",
    "def loss(params, x, y):\n",
    "    return np.sum((y - predict(params, x)) ** 2)\n",
    "\n",
    "@jit\n",
    "def update(params, data, LR):\n",
    "    grads = grad(loss)(params, data)\n",
    "    return [(w - LR * dw, b - LR * db) for (w, b), (dw, db) in zip(params, grads)]\n"
   ]
  },
  {
   "cell_type": "code",
   "execution_count": null,
   "metadata": {},
   "outputs": [],
   "source": [
    "for i in range(10):\n",
    "    X, Y = make_batch(100)\n",
    "\n",
    "    l = loss(params, X, Y).item()\n",
    "    loss_list.append(l)\n",
    "    if np.isnan(l):\n",
    "        print(\"loss is nan\")\n",
    "        break\n",
    "\n",
    "    LR = max(LR_0 * decay ** i, LR_min)\n",
    "\n",
    "    params = update(params, data, LR)\n",
    "    print(f\"batch {i}, loss {l}, LR {LR}\", end=\"\\r\")\n",
    "\n",
    "    if (i + 1) % epoch_size == 0:\n",
    "        # print(\"epoch\")\n",
    "        param_list.append(params)\n",
    "        if plot_fn is not None:\n",
    "            # print(\"should plot\")\n",
    "            plot_fn(params, loss_list, i)"
   ]
  }
 ],
 "metadata": {
  "kernelspec": {
   "display_name": "Python 3.7.4 64-bit ('base': conda)",
   "language": "python",
   "name": "python37464bitbasecondaaa5dca5993ec4ac4a4a5718ed2401984"
  },
  "language_info": {
   "codemirror_mode": {
    "name": "ipython",
    "version": 3
   },
   "file_extension": ".py",
   "mimetype": "text/x-python",
   "name": "python",
   "nbconvert_exporter": "python",
   "pygments_lexer": "ipython3",
   "version": "3.7.4"
  }
 },
 "nbformat": 4,
 "nbformat_minor": 4
}
