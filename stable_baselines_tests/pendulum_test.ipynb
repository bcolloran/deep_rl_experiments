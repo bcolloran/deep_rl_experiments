{
 "cells": [
  {
   "cell_type": "code",
   "execution_count": 19,
   "metadata": {},
   "outputs": [],
   "source": [
    "from stable_baselines3 import SAC\n",
    "from stable_baselines3.sac import MlpPolicy\n",
    "import gym\n",
    "import numpy as np\n"
   ]
  },
  {
   "cell_type": "code",
   "execution_count": 21,
   "metadata": {},
   "outputs": [
    {
     "output_type": "stream",
     "name": "stdout",
     "text": "Using cuda device\nWrapping the env in a DummyVecEnv.\n"
    }
   ],
   "source": [
    "env = gym.make(\"Pendulum-v0\")\n",
    "\n",
    "model = SAC(\n",
    "    MlpPolicy,\n",
    "    env,\n",
    "    verbose=1,\n",
    "    gradient_steps=-1,\n",
    "    learning_rate=0.001,\n",
    "    n_episodes_rollout=1,\n",
    "    policy_kwargs=dict(log_std_init=-2, net_arch=[64, 64]),\n",
    "    use_sde=True\n",
    ")\n"
   ]
  },
  {
   "cell_type": "code",
   "execution_count": 23,
   "metadata": {
    "tags": [
     "outputPrepend",
     "outputPrepend",
     "outputPrepend",
     "outputPrepend",
     "outputPrepend",
     "outputPrepend",
     "outputPrepend",
     "outputPrepend",
     "outputPrepend",
     "outputPrepend",
     "outputPrepend",
     "outputPrepend",
     "outputPrepend",
     "outputPrepend",
     "outputPrepend",
     "outputPrepend",
     "outputPrepend",
     "outputPrepend",
     "outputPrepend",
     "outputPrepend",
     "outputPrepend",
     "outputPrepend",
     "outputPrepend"
    ]
   },
   "outputs": [
    {
     "output_type": "stream",
     "name": "stdout",
     "text": "01    |\n|    n_updates       | 18800    |\n|    std             | 0.124    |\n---------------------------------\n---------------------------------\n| time/              |          |\n|    episodes        | 96       |\n|    fps             | 61       |\n|    time_elapsed    | 311      |\n|    total timesteps | 19200    |\n| train/             |          |\n|    actor_loss      | 63.5     |\n|    critic_loss     | 52.9     |\n|    ent_coef        | 0.336    |\n|    ent_coef_loss   | -0.0408  |\n|    learning_rate   | 0.001    |\n|    n_updates       | 19600    |\n|    std             | 0.124    |\n---------------------------------\n---------------------------------\n| time/              |          |\n|    episodes        | 100      |\n|    fps             | 61       |\n|    time_elapsed    | 324      |\n|    total timesteps | 20000    |\n| train/             |          |\n|    actor_loss      | 63.5     |\n|    critic_loss     | 40.7     |\n|    ent_coef        | 0.319    |\n|    ent_coef_loss   | -0.0441  |\n|    learning_rate   | 0.001    |\n|    n_updates       | 20400    |\n|    std             | 0.122    |\n---------------------------------\n---------------------------------\n| time/              |          |\n|    episodes        | 104      |\n|    fps             | 61       |\n|    time_elapsed    | 337      |\n|    total timesteps | 20800    |\n| train/             |          |\n|    actor_loss      | 63.1     |\n|    critic_loss     | 41.1     |\n|    ent_coef        | 0.324    |\n|    ent_coef_loss   | 0.00865  |\n|    learning_rate   | 0.001    |\n|    n_updates       | 21200    |\n|    std             | 0.121    |\n---------------------------------\n---------------------------------\n| time/              |          |\n|    episodes        | 108      |\n|    fps             | 61       |\n|    time_elapsed    | 350      |\n|    total timesteps | 21600    |\n| train/             |          |\n|    actor_loss      | 62.9     |\n|    critic_loss     | 38.6     |\n|    ent_coef        | 0.341    |\n|    ent_coef_loss   | 0.0137   |\n|    learning_rate   | 0.001    |\n|    n_updates       | 22000    |\n|    std             | 0.121    |\n---------------------------------\n---------------------------------\n| time/              |          |\n|    episodes        | 112      |\n|    fps             | 61       |\n|    time_elapsed    | 363      |\n|    total timesteps | 22400    |\n| train/             |          |\n|    actor_loss      | 62.7     |\n|    critic_loss     | 38.7     |\n|    ent_coef        | 0.346    |\n|    ent_coef_loss   | -0.0255  |\n|    learning_rate   | 0.001    |\n|    n_updates       | 22800    |\n|    std             | 0.121    |\n---------------------------------\n---------------------------------\n| time/              |          |\n|    episodes        | 116      |\n|    fps             | 61       |\n|    time_elapsed    | 377      |\n|    total timesteps | 23200    |\n| train/             |          |\n|    actor_loss      | 62.7     |\n|    critic_loss     | 41       |\n|    ent_coef        | 0.347    |\n|    ent_coef_loss   | 0.000123 |\n|    learning_rate   | 0.001    |\n|    n_updates       | 23600    |\n|    std             | 0.121    |\n---------------------------------\n---------------------------------\n| time/              |          |\n|    episodes        | 120      |\n|    fps             | 61       |\n|    time_elapsed    | 390      |\n|    total timesteps | 24000    |\n| train/             |          |\n|    actor_loss      | 62.6     |\n|    critic_loss     | 38       |\n|    ent_coef        | 0.37     |\n|    ent_coef_loss   | 0.00366  |\n|    learning_rate   | 0.001    |\n|    n_updates       | 24400    |\n|    std             | 0.12     |\n---------------------------------\n---------------------------------\n| time/              |          |\n|    episodes        | 124      |\n|    fps             | 61       |\n|    time_elapsed    | 403      |\n|    total timesteps | 24800    |\n| train/             |          |\n|    actor_loss      | 63.2     |\n|    critic_loss     | 40.2     |\n|    ent_coef        | 0.396    |\n|    ent_coef_loss   | 0.00771  |\n|    learning_rate   | 0.001    |\n|    n_updates       | 25200    |\n|    std             | 0.121    |\n---------------------------------\n---------------------------------\n| time/              |          |\n|    episodes        | 128      |\n|    fps             | 61       |\n|    time_elapsed    | 417      |\n|    total timesteps | 25600    |\n| train/             |          |\n|    actor_loss      | 63.4     |\n|    critic_loss     | 40.1     |\n|    ent_coef        | 0.423    |\n|    ent_coef_loss   | 0.0302   |\n|    learning_rate   | 0.001    |\n|    n_updates       | 26000    |\n|    std             | 0.122    |\n---------------------------------\n---------------------------------\n| time/              |          |\n|    episodes        | 132      |\n|    fps             | 61       |\n|    time_elapsed    | 430      |\n|    total timesteps | 26400    |\n| train/             |          |\n|    actor_loss      | 64.5     |\n|    critic_loss     | 31.4     |\n|    ent_coef        | 0.418    |\n|    ent_coef_loss   | -0.0548  |\n|    learning_rate   | 0.001    |\n|    n_updates       | 26800    |\n|    std             | 0.122    |\n---------------------------------\n---------------------------------\n| time/              |          |\n|    episodes        | 136      |\n|    fps             | 61       |\n|    time_elapsed    | 443      |\n|    total timesteps | 27200    |\n| train/             |          |\n|    actor_loss      | 64.4     |\n|    critic_loss     | 42.2     |\n|    ent_coef        | 0.41     |\n|    ent_coef_loss   | -0.0312  |\n|    learning_rate   | 0.001    |\n|    n_updates       | 27600    |\n|    std             | 0.123    |\n---------------------------------\n---------------------------------\n| time/              |          |\n|    episodes        | 140      |\n|    fps             | 61       |\n|    time_elapsed    | 457      |\n|    total timesteps | 28000    |\n| train/             |          |\n|    actor_loss      | 65.2     |\n|    critic_loss     | 34.4     |\n|    ent_coef        | 0.41     |\n|    ent_coef_loss   | 0.00301  |\n|    learning_rate   | 0.001    |\n|    n_updates       | 28400    |\n|    std             | 0.123    |\n---------------------------------\n---------------------------------\n| time/              |          |\n|    episodes        | 144      |\n|    fps             | 61       |\n|    time_elapsed    | 470      |\n|    total timesteps | 28800    |\n| train/             |          |\n|    actor_loss      | 64.7     |\n|    critic_loss     | 41.4     |\n|    ent_coef        | 0.391    |\n|    ent_coef_loss   | 0.0045   |\n|    learning_rate   | 0.001    |\n|    n_updates       | 29200    |\n|    std             | 0.124    |\n---------------------------------\n---------------------------------\n| time/              |          |\n|    episodes        | 148      |\n|    fps             | 61       |\n|    time_elapsed    | 483      |\n|    total timesteps | 29600    |\n| train/             |          |\n|    actor_loss      | 64.5     |\n|    critic_loss     | 31.3     |\n|    ent_coef        | 0.37     |\n|    ent_coef_loss   | -0.0457  |\n|    learning_rate   | 0.001    |\n|    n_updates       | 30000    |\n|    std             | 0.124    |\n---------------------------------\n---------------------------------\n| time/              |          |\n|    episodes        | 152      |\n|    fps             | 61       |\n|    time_elapsed    | 496      |\n|    total timesteps | 30400    |\n| train/             |          |\n|    actor_loss      | 64.3     |\n|    critic_loss     | 32       |\n|    ent_coef        | 0.351    |\n|    ent_coef_loss   | 0.0124   |\n|    learning_rate   | 0.001    |\n|    n_updates       | 30800    |\n|    std             | 0.123    |\n---------------------------------\n---------------------------------\n| time/              |          |\n|    episodes        | 156      |\n|    fps             | 61       |\n|    time_elapsed    | 509      |\n|    total timesteps | 31200    |\n| train/             |          |\n|    actor_loss      | 64.4     |\n|    critic_loss     | 23.2     |\n|    ent_coef        | 0.339    |\n|    ent_coef_loss   | -0.0385  |\n|    learning_rate   | 0.001    |\n|    n_updates       | 31600    |\n|    std             | 0.122    |\n---------------------------------\n---------------------------------\n| time/              |          |\n|    episodes        | 160      |\n|    fps             | 61       |\n|    time_elapsed    | 522      |\n|    total timesteps | 32000    |\n| train/             |          |\n|    actor_loss      | 63.9     |\n|    critic_loss     | 29.9     |\n|    ent_coef        | 0.309    |\n|    ent_coef_loss   | -0.00477 |\n|    learning_rate   | 0.001    |\n|    n_updates       | 32400    |\n|    std             | 0.122    |\n---------------------------------\n---------------------------------\n| time/              |          |\n|    episodes        | 164      |\n|    fps             | 61       |\n|    time_elapsed    | 535      |\n|    total timesteps | 32800    |\n| train/             |          |\n|    actor_loss      | 63.3     |\n|    critic_loss     | 25.9     |\n|    ent_coef        | 0.307    |\n|    ent_coef_loss   | -0.0208  |\n|    learning_rate   | 0.001    |\n|    n_updates       | 33200    |\n|    std             | 0.122    |\n---------------------------------\n---------------------------------\n| time/              |          |\n|    episodes        | 168      |\n|    fps             | 61       |\n|    time_elapsed    | 548      |\n|    total timesteps | 33600    |\n| train/             |          |\n|    actor_loss      | 63.1     |\n|    critic_loss     | 25.6     |\n|    ent_coef        | 0.292    |\n|    ent_coef_loss   | -0.0479  |\n|    learning_rate   | 0.001    |\n|    n_updates       | 34000    |\n|    std             | 0.121    |\n---------------------------------\n---------------------------------\n| time/              |          |\n|    episodes        | 172      |\n|    fps             | 61       |\n|    time_elapsed    | 561      |\n|    total timesteps | 34400    |\n| train/             |          |\n|    actor_loss      | 62.3     |\n|    critic_loss     | 24.1     |\n|    ent_coef        | 0.283    |\n|    ent_coef_loss   | 0.0579   |\n|    learning_rate   | 0.001    |\n|    n_updates       | 34800    |\n|    std             | 0.12     |\n---------------------------------\n---------------------------------\n| time/              |          |\n|    episodes        | 176      |\n|    fps             | 61       |\n|    time_elapsed    | 575      |\n|    total timesteps | 35200    |\n| train/             |          |\n|    actor_loss      | 61.5     |\n|    critic_loss     | 23.9     |\n|    ent_coef        | 0.261    |\n|    ent_coef_loss   | -0.0161  |\n|    learning_rate   | 0.001    |\n|    n_updates       | 35600    |\n|    std             | 0.119    |\n---------------------------------\n---------------------------------\n| time/              |          |\n|    episodes        | 180      |\n|    fps             | 61       |\n|    time_elapsed    | 588      |\n|    total timesteps | 36000    |\n| train/             |          |\n|    actor_loss      | 61.4     |\n|    critic_loss     | 19.8     |\n|    ent_coef        | 0.237    |\n|    ent_coef_loss   | -0.0583  |\n|    learning_rate   | 0.001    |\n|    n_updates       | 36400    |\n|    std             | 0.118    |\n---------------------------------\n---------------------------------\n| time/              |          |\n|    episodes        | 184      |\n|    fps             | 61       |\n|    time_elapsed    | 601      |\n|    total timesteps | 36800    |\n| train/             |          |\n|    actor_loss      | 60.4     |\n|    critic_loss     | 27       |\n|    ent_coef        | 0.226    |\n|    ent_coef_loss   | 0.00321  |\n|    learning_rate   | 0.001    |\n|    n_updates       | 37200    |\n|    std             | 0.117    |\n---------------------------------\n---------------------------------\n| time/              |          |\n|    episodes        | 188      |\n|    fps             | 61       |\n|    time_elapsed    | 614      |\n|    total timesteps | 37600    |\n| train/             |          |\n|    actor_loss      | 59.3     |\n|    critic_loss     | 23.9     |\n|    ent_coef        | 0.211    |\n|    ent_coef_loss   | -0.0947  |\n|    learning_rate   | 0.001    |\n|    n_updates       | 38000    |\n|    std             | 0.116    |\n---------------------------------\n---------------------------------\n| time/              |          |\n|    episodes        | 192      |\n|    fps             | 61       |\n|    time_elapsed    | 627      |\n|    total timesteps | 38400    |\n| train/             |          |\n|    actor_loss      | 58.3     |\n|    critic_loss     | 30.1     |\n|    ent_coef        | 0.208    |\n|    ent_coef_loss   | 0.0145   |\n|    learning_rate   | 0.001    |\n|    n_updates       | 38800    |\n|    std             | 0.115    |\n---------------------------------\n---------------------------------\n| time/              |          |\n|    episodes        | 196      |\n|    fps             | 61       |\n|    time_elapsed    | 640      |\n|    total timesteps | 39200    |\n| train/             |          |\n|    actor_loss      | 57.6     |\n|    critic_loss     | 28.1     |\n|    ent_coef        | 0.216    |\n|    ent_coef_loss   | 0.0631   |\n|    learning_rate   | 0.001    |\n|    n_updates       | 39600    |\n|    std             | 0.115    |\n---------------------------------\n---------------------------------\n| time/              |          |\n|    episodes        | 200      |\n|    fps             | 61       |\n|    time_elapsed    | 654      |\n|    total timesteps | 40000    |\n| train/             |          |\n|    actor_loss      | 56.8     |\n|    critic_loss     | 22.1     |\n|    ent_coef        | 0.22     |\n|    ent_coef_loss   | -0.0434  |\n|    learning_rate   | 0.001    |\n|    n_updates       | 40400    |\n|    std             | 0.114    |\n---------------------------------\n---------------------------------\n| time/              |          |\n|    episodes        | 204      |\n|    fps             | 61       |\n|    time_elapsed    | 667      |\n|    total timesteps | 40800    |\n| train/             |          |\n|    actor_loss      | 56.2     |\n|    critic_loss     | 20.6     |\n|    ent_coef        | 0.219    |\n|    ent_coef_loss   | -0.00117 |\n|    learning_rate   | 0.001    |\n|    n_updates       | 41200    |\n|    std             | 0.114    |\n---------------------------------\n---------------------------------\n| time/              |          |\n|    episodes        | 208      |\n|    fps             | 61       |\n|    time_elapsed    | 680      |\n|    total timesteps | 41600    |\n| train/             |          |\n|    actor_loss      | 55.7     |\n|    critic_loss     | 17.3     |\n|    ent_coef        | 0.227    |\n|    ent_coef_loss   | 0.00625  |\n|    learning_rate   | 0.001    |\n|    n_updates       | 42000    |\n|    std             | 0.114    |\n---------------------------------\n---------------------------------\n| time/              |          |\n|    episodes        | 212      |\n|    fps             | 61       |\n|    time_elapsed    | 694      |\n|    total timesteps | 42400    |\n| train/             |          |\n|    actor_loss      | 55.4     |\n|    critic_loss     | 28.2     |\n|    ent_coef        | 0.233    |\n|    ent_coef_loss   | 0.0418   |\n|    learning_rate   | 0.001    |\n|    n_updates       | 42800    |\n|    std             | 0.114    |\n---------------------------------\n---------------------------------\n| time/              |          |\n|    episodes        | 216      |\n|    fps             | 61       |\n|    time_elapsed    | 707      |\n|    total timesteps | 43200    |\n| train/             |          |\n|    actor_loss      | 54.8     |\n|    critic_loss     | 23       |\n|    ent_coef        | 0.231    |\n|    ent_coef_loss   | -0.0123  |\n|    learning_rate   | 0.001    |\n|    n_updates       | 43600    |\n|    std             | 0.115    |\n---------------------------------\n---------------------------------\n| time/              |          |\n|    episodes        | 220      |\n|    fps             | 61       |\n|    time_elapsed    | 720      |\n|    total timesteps | 44000    |\n| train/             |          |\n|    actor_loss      | 54.8     |\n|    critic_loss     | 17.6     |\n|    ent_coef        | 0.237    |\n|    ent_coef_loss   | 0.0592   |\n|    learning_rate   | 0.001    |\n|    n_updates       | 44400    |\n|    std             | 0.115    |\n---------------------------------\n---------------------------------\n| time/              |          |\n|    episodes        | 224      |\n|    fps             | 61       |\n|    time_elapsed    | 734      |\n|    total timesteps | 44800    |\n| train/             |          |\n|    actor_loss      | 54.5     |\n|    critic_loss     | 18.5     |\n|    ent_coef        | 0.235    |\n|    ent_coef_loss   | -0.0413  |\n|    learning_rate   | 0.001    |\n|    n_updates       | 45200    |\n|    std             | 0.116    |\n---------------------------------\n---------------------------------\n| time/              |          |\n|    episodes        | 228      |\n|    fps             | 61       |\n|    time_elapsed    | 747      |\n|    total timesteps | 45600    |\n| train/             |          |\n|    actor_loss      | 53.8     |\n|    critic_loss     | 22.7     |\n|    ent_coef        | 0.228    |\n|    ent_coef_loss   | -0.0326  |\n|    learning_rate   | 0.001    |\n|    n_updates       | 46000    |\n|    std             | 0.116    |\n---------------------------------\n---------------------------------\n| time/              |          |\n|    episodes        | 232      |\n|    fps             | 61       |\n|    time_elapsed    | 760      |\n|    total timesteps | 46400    |\n| train/             |          |\n|    actor_loss      | 54       |\n|    critic_loss     | 17.6     |\n|    ent_coef        | 0.221    |\n|    ent_coef_loss   | -0.0409  |\n|    learning_rate   | 0.001    |\n|    n_updates       | 46800    |\n|    std             | 0.115    |\n---------------------------------\n---------------------------------\n| time/              |          |\n|    episodes        | 236      |\n|    fps             | 61       |\n|    time_elapsed    | 773      |\n|    total timesteps | 47200    |\n| train/             |          |\n|    actor_loss      | 53.1     |\n|    critic_loss     | 23.4     |\n|    ent_coef        | 0.228    |\n|    ent_coef_loss   | 0.0609   |\n|    learning_rate   | 0.001    |\n|    n_updates       | 47600    |\n|    std             | 0.115    |\n---------------------------------\n---------------------------------\n| time/              |          |\n|    episodes        | 240      |\n|    fps             | 60       |\n|    time_elapsed    | 787      |\n|    total timesteps | 48000    |\n| train/             |          |\n|    actor_loss      | 52.9     |\n|    critic_loss     | 21.9     |\n|    ent_coef        | 0.227    |\n|    ent_coef_loss   | -0.0228  |\n|    learning_rate   | 0.001    |\n|    n_updates       | 48400    |\n|    std             | 0.115    |\n---------------------------------\n---------------------------------\n| time/              |          |\n|    episodes        | 244      |\n|    fps             | 60       |\n|    time_elapsed    | 800      |\n|    total timesteps | 48800    |\n| train/             |          |\n|    actor_loss      | 52.5     |\n|    critic_loss     | 21.6     |\n|    ent_coef        | 0.229    |\n|    ent_coef_loss   | -0.0468  |\n|    learning_rate   | 0.001    |\n|    n_updates       | 49200    |\n|    std             | 0.114    |\n---------------------------------\n---------------------------------\n| time/              |          |\n|    episodes        | 248      |\n|    fps             | 60       |\n|    time_elapsed    | 813      |\n|    total timesteps | 49600    |\n| train/             |          |\n|    actor_loss      | 52.5     |\n|    critic_loss     | 24.5     |\n|    ent_coef        | 0.23     |\n|    ent_coef_loss   | 0.0276   |\n|    learning_rate   | 0.001    |\n|    n_updates       | 50000    |\n|    std             | 0.114    |\n---------------------------------\n"
    },
    {
     "output_type": "execute_result",
     "data": {
      "text/plain": "<stable_baselines3.sac.sac.SAC at 0x7f73b62132d0>"
     },
     "metadata": {},
     "execution_count": 23
    }
   ],
   "source": [
    "model.learn(50000)"
   ]
  },
  {
   "cell_type": "code",
   "execution_count": 25,
   "metadata": {},
   "outputs": [],
   "source": [
    "done = False\n",
    "state = env.reset()\n",
    "while not done:\n",
    "    env.render()\n",
    "    action, _states = model.predict(state)\n",
    "    obs, reward, done, info = env.step(action)\n",
    "    # episode_rewards.append(reward)\n",
    "env.close()"
   ]
  },
  {
   "cell_type": "code",
   "execution_count": null,
   "metadata": {},
   "outputs": [],
   "source": []
  }
 ],
 "metadata": {
  "language_info": {
   "codemirror_mode": {
    "name": "ipython",
    "version": 3
   },
   "file_extension": ".py",
   "mimetype": "text/x-python",
   "name": "python",
   "nbconvert_exporter": "python",
   "pygments_lexer": "ipython3",
   "version": "3.7.4-final"
  },
  "orig_nbformat": 2,
  "kernelspec": {
   "name": "python37464bitbasecondaaa5dca5993ec4ac4a4a5718ed2401984",
   "display_name": "Python 3.7.4 64-bit ('base': conda)"
  }
 },
 "nbformat": 4,
 "nbformat_minor": 2
}